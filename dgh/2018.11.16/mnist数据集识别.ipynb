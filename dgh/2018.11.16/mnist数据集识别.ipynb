{
 "cells": [
  {
   "cell_type": "markdown",
   "metadata": {},
   "source": [
    "训练一个三层网络识别mnist数据集"
   ]
  },
  {
   "cell_type": "code",
   "execution_count": 41,
   "metadata": {},
   "outputs": [],
   "source": [
    "#导入库\n",
    "import numpy\n",
    "import scipy.special            #用于激活函数的数学库\n",
    "import matplotlib.pyplot        #绘图库\n",
    "%matplotlib inline"
   ]
  },
  {
   "cell_type": "markdown",
   "metadata": {},
   "source": [
    "神经网络类定义"
   ]
  },
  {
   "cell_type": "code",
   "execution_count": 42,
   "metadata": {},
   "outputs": [],
   "source": [
    "class neuralNetwork:\n",
    "    #初始化\n",
    "    def __init__(self, inputnodes, hiddennodes, outputnodes, learningrate):\n",
    "        #设置各个参数\n",
    "        self.inodes=inputnodes\n",
    "        self.hnodes=hiddennodes\n",
    "        self.onodes=outputnodes\n",
    "        self.lr=learningrate\n",
    "        \n",
    "        #初始化权重矩阵分别为Wih（输入层——隐藏层）Who（隐藏层——输出层）\n",
    "        self.wih=numpy.random.normal(0.0,pow(self.hnodes,-0.5),(self.hnodes,self.inodes))\n",
    "        self.who=numpy.random.normal(0.0,pow(self.onodes,-0.5),(self.onodes,self.hnodes))\n",
    "        \n",
    "        #激活函数为sigmoid\n",
    "        self.activation_function=lambda x: scipy.special.expit(x)\n",
    "        \n",
    "        pass\n",
    "    #训练过程（权重更新）\n",
    "    def train(self,inputs_list,targets_list):\n",
    "        \n",
    "        #第一部分针对给定训练样本计算输出\n",
    "        #输入输出list转换为列向量\n",
    "        inputs =numpy.array(inputs_list,ndmin=2).T\n",
    "        targets=numpy.array(targets_list,ndmin=2).T\n",
    "        \n",
    "        #隐藏层输入、激活\n",
    "        hidden_inputs=numpy.dot(self.wih,inputs)\n",
    "        hidden_outputs=self.activation_function(hidden_inputs)\n",
    "        \n",
    "        #输出层输入、激活\n",
    "        final_inputs=numpy.dot(self.who,hidden_outputs)\n",
    "        final_outputs=self.activation_function(final_inputs)\n",
    "        \n",
    "        #第二部分更新权重\n",
    "        #计算误差\n",
    "        output_errors=targets-final_outputs\n",
    "        hidden_errors=numpy.dot(self.who.T,output_errors)\n",
    "        \n",
    "        #更新权重\n",
    "        self.who+=self.lr*numpy.dot((output_errors*final_outputs*(1.0-final_outputs)),numpy.transpose(hidden_outputs))\n",
    "        self.wih+=self.lr*numpy.dot((hidden_errors*hidden_outputs*(1.0-hidden_outputs)),numpy.transpose(inputs))\n",
    "        \n",
    "        pass\n",
    "    #查询\n",
    "    def query(self,inputs_list):\n",
    "        inputs =numpy.array(inputs_list,ndmin=2).T\n",
    "        \n",
    "        #激活（正向传播）\n",
    "        #隐藏层输入、激活\n",
    "        hidden_inputs=numpy.dot(self.wih,inputs)\n",
    "        hidden_outputs=self.activation_function(hidden_inputs)\n",
    "        \n",
    "        #输出层输入、激活\n",
    "        final_inputs=numpy.dot(self.who,hidden_outputs)\n",
    "        final_outputs=self.activation_function(final_inputs)\n",
    "        \n",
    "        return final_outputs"
   ]
  },
  {
   "cell_type": "code",
   "execution_count": 84,
   "metadata": {},
   "outputs": [],
   "source": [
    "#初始化参数\n",
    "input_nodes=28*28\n",
    "hidden_nodes=180\n",
    "output_nodes=10\n",
    "learning_rate=0.3\n",
    "\n",
    "n=neuralNetwork(input_nodes,hidden_nodes,output_nodes,learning_rate)\n",
    "\n",
    "#向列表中导入mnist数据集\n",
    "\n",
    "training_data_file = open(\"mnist_dataset/mnist_train_100.csv\",'r')\n",
    "training_data_list=training_data_file.readlines()\n",
    "training_data_file.close()\n",
    "\n",
    "#训练神经网络\n",
    "#遍历所有训练数据集的记录\n",
    "for record in training_data_list:\n",
    "    #去掉逗号\n",
    "    all_values=record.split(',')\n",
    "    #归一化\n",
    "    inputs=(numpy.asfarray(all_values[1:])/255.0*0.99)+0.01\n",
    "    #创建输出的目标值（1的话就是[0.01,0.99,0.01,.........]）\n",
    "    targets=numpy.zeros(output_nodes)+0.01\n",
    "    targets[int(all_values[0])]=0.99\n",
    "    n.train(inputs,targets)\n",
    "    pass"
   ]
  },
  {
   "cell_type": "markdown",
   "metadata": {},
   "source": [
    "    测试阶段"
   ]
  },
  {
   "cell_type": "code",
   "execution_count": 85,
   "metadata": {},
   "outputs": [],
   "source": [
    "test_data_file=open(\"mnist_dataset/mnist_test_10.csv\",'r')\n",
    "test_data_list=test_data_file.readlines()\n",
    "test_data_file.close()"
   ]
  },
  {
   "cell_type": "code",
   "execution_count": 86,
   "metadata": {},
   "outputs": [
    {
     "name": "stdout",
     "output_type": "stream",
     "text": [
      "7\n"
     ]
    }
   ],
   "source": [
    "test_values=test_data_list[0].split(',')\n",
    "print(test_values[0])"
   ]
  },
  {
   "cell_type": "code",
   "execution_count": 87,
   "metadata": {},
   "outputs": [
    {
     "data": {
      "text/plain": [
       "array([[1.01531899e-02],\n",
       "       [2.65791005e-03],\n",
       "       [1.04602312e-03],\n",
       "       [3.73506466e-02],\n",
       "       [1.65723255e-02],\n",
       "       [3.71138901e-02],\n",
       "       [6.67352448e-04],\n",
       "       [9.85010253e-01],\n",
       "       [1.59696828e-02],\n",
       "       [4.64556465e-03]])"
      ]
     },
     "execution_count": 87,
     "metadata": {},
     "output_type": "execute_result"
    }
   ],
   "source": [
    "n.query((numpy.asfarray(test_values[1:])/255.0*0.99)+0.01)"
   ]
  },
  {
   "cell_type": "code",
   "execution_count": null,
   "metadata": {},
   "outputs": [],
   "source": []
  },
  {
   "cell_type": "code",
   "execution_count": null,
   "metadata": {},
   "outputs": [],
   "source": []
  }
 ],
 "metadata": {
  "kernelspec": {
   "display_name": "Python 3",
   "language": "python",
   "name": "python3"
  },
  "language_info": {
   "codemirror_mode": {
    "name": "ipython",
    "version": 3
   },
   "file_extension": ".py",
   "mimetype": "text/x-python",
   "name": "python",
   "nbconvert_exporter": "python",
   "pygments_lexer": "ipython3",
   "version": "3.6.5"
  }
 },
 "nbformat": 4,
 "nbformat_minor": 2
}
